{
 "cells": [
  {
   "cell_type": "markdown",
   "id": "a61666c7",
   "metadata": {},
   "source": [
    "# First Steps with OpenAI's API"
   ]
  },
  {
   "cell_type": "code",
   "execution_count": 2,
   "id": "ee864d10",
   "metadata": {},
   "outputs": [],
   "source": [
    "# after installing the openai library via !pip install openai, we can import and use it\n",
    "\n",
    "import openai"
   ]
  },
  {
   "cell_type": "code",
   "execution_count": 3,
   "id": "bc1552c8",
   "metadata": {},
   "outputs": [],
   "source": [
    "# we install the python-dotenv - !pip install python-dotenv\n",
    "# then we load a function we need\n",
    "\n",
    "from dotenv import dotenv_values"
   ]
  },
  {
   "cell_type": "markdown",
   "id": "66a662a4",
   "metadata": {},
   "source": [
    "It is generally bad practice to have an API key hard-coded\n",
    "Here, we've hidden it in an invisible environment file"
   ]
  },
  {
   "cell_type": "code",
   "execution_count": 4,
   "id": "34709a28",
   "metadata": {},
   "outputs": [],
   "source": [
    "# now we can pass the configuration file to a variable\n",
    "\n",
    "config = dotenv_values(\".env.txt\")"
   ]
  },
  {
   "cell_type": "code",
   "execution_count": 9,
   "id": "6cc00d71",
   "metadata": {},
   "outputs": [],
   "source": [
    "# reminder to myself:\n",
    "# create an exam questions on how to hide your API key."
   ]
  },
  {
   "cell_type": "code",
   "execution_count": 10,
   "id": "361c7df4",
   "metadata": {},
   "outputs": [],
   "source": [
    "openai.api_key = config['OPENAI_API_KEY']"
   ]
  },
  {
   "cell_type": "markdown",
   "id": "2b050a5f",
   "metadata": {},
   "source": [
    "Generate a list of the 10 most populatet cities - experimenting with max_tokens."
   ]
  },
  {
   "cell_type": "code",
   "execution_count": 13,
   "id": "ddfa444b",
   "metadata": {},
   "outputs": [
    {
     "data": {
      "text/plain": [
       "<OpenAIObject text_completion id=cmpl-7BleKtFsFJhIpWeCNxEb7zB0Zow5S at 0x1bedd8f42f0> JSON: {\n",
       "  \"choices\": [\n",
       "    {\n",
       "      \"finish_reason\": \"length\",\n",
       "      \"index\": 0,\n",
       "      \"logprobs\": null,\n",
       "      \"text\": \"\\n\\n1. Tokyo, Japan\\n2.\"\n",
       "    }\n",
       "  ],\n",
       "  \"created\": 1683039128,\n",
       "  \"id\": \"cmpl-7BleKtFsFJhIpWeCNxEb7zB0Zow5S\",\n",
       "  \"model\": \"text-davinci-003\",\n",
       "  \"object\": \"text_completion\",\n",
       "  \"usage\": {\n",
       "    \"completion_tokens\": 10,\n",
       "    \"prompt_tokens\": 7,\n",
       "    \"total_tokens\": 17\n",
       "  }\n",
       "}"
      ]
     },
     "execution_count": 13,
     "metadata": {},
     "output_type": "execute_result"
    }
   ],
   "source": [
    "openai.Completion.create(\n",
    "    model = \"text-davinci-003\",\n",
    "    prompt = \"The top 10 most populated cities \",\n",
    "    max_tokens = 100\n",
    "    # max_tokens = 10 would run into a \"finsih_reason\": \"length\"\n",
    ")"
   ]
  },
  {
   "cell_type": "markdown",
   "id": "d4a03d40",
   "metadata": {},
   "source": [
    "Generate a list of the best movies of all time"
   ]
  },
  {
   "cell_type": "code",
   "execution_count": 16,
   "id": "ebf9b323",
   "metadata": {},
   "outputs": [],
   "source": [
    "response = openai.Completion.create(\n",
    "    prompt = \"Generate a list of the best movies of all time \",\n",
    "    model = \"text-davinci-003\",\n",
    "    max_tokens = 200\n",
    ")"
   ]
  },
  {
   "cell_type": "code",
   "execution_count": 19,
   "id": "ba5b6c76",
   "metadata": {},
   "outputs": [
    {
     "name": "stdout",
     "output_type": "stream",
     "text": [
      "\n",
      "\n",
      "1. The Shawshank Redemption (1994)\n",
      "2. The Godfather (1972)\n",
      "3. The Godfather: Part II (1974)\n",
      "4. The Dark Knight (2008)\n",
      "5. 12 Angry Men (1957)\n",
      "6. Schindler's List (1993)\n",
      "7. The Lord of the Rings: The Return of the King (2003)\n",
      "8. Pulp Fiction (1994)\n",
      "9. The Good, The Bad and The Ugly (1966)\n",
      "10. The Lord of the Rings: The Fellowship of the Ring (2001)\n",
      "11. Fight Club (1999)\n",
      "12. Star Wars: Episode V – The Empire Strikes Back (1980)\n",
      "13. Forrest Gump (1994)\n",
      "14. Inception (2010)\n",
      "15. Goodfellas (1990)\n",
      "16. The Matrix (1999)\n",
      "17. Casablanca (1942)\n",
      "18. One Flew Over the Cuckoo\n"
     ]
    }
   ],
   "source": [
    "print(response[\"choices\"][0][\"text\"])"
   ]
  },
  {
   "cell_type": "code",
   "execution_count": 20,
   "id": "58c67193",
   "metadata": {},
   "outputs": [
    {
     "data": {
      "text/plain": [
       "<OpenAIObject text_completion id=cmpl-7BlvEM395zMGbTQSHfVL4iM4d4rt8 at 0x1bedd8f4b30> JSON: {\n",
       "  \"choices\": [\n",
       "    {\n",
       "      \"finish_reason\": \"length\",\n",
       "      \"index\": 0,\n",
       "      \"logprobs\": null,\n",
       "      \"text\": \"\\n\\n1. The Shawshank Redemption (1994)\\n2. The Godfather (1972)\\n3. The Godfather: Part II (1974)\\n4. The Dark Knight (2008)\\n5. 12 Angry Men (1957)\\n6. Schindler's List (1993)\\n7. The Lord of the Rings: The Return of the King (2003)\\n8. Pulp Fiction (1994)\\n9. The Good, The Bad and The Ugly (1966)\\n10. The Lord of the Rings: The Fellowship of the Ring (2001)\\n11. Fight Club (1999)\\n12. Star Wars: Episode V \\u2013 The Empire Strikes Back (1980)\\n13. Forrest Gump (1994)\\n14. Inception (2010)\\n15. Goodfellas (1990)\\n16. The Matrix (1999)\\n17. Casablanca (1942)\\n18. One Flew Over the Cuckoo\"\n",
       "    }\n",
       "  ],\n",
       "  \"created\": 1683040176,\n",
       "  \"id\": \"cmpl-7BlvEM395zMGbTQSHfVL4iM4d4rt8\",\n",
       "  \"model\": \"text-davinci-003\",\n",
       "  \"object\": \"text_completion\",\n",
       "  \"usage\": {\n",
       "    \"completion_tokens\": 200,\n",
       "    \"prompt_tokens\": 12,\n",
       "    \"total_tokens\": 212\n",
       "  }\n",
       "}"
      ]
     },
     "execution_count": 20,
     "metadata": {},
     "output_type": "execute_result"
    }
   ],
   "source": [
    "# it looks like it ran into the max_tokens limit again.\n",
    "\n",
    "response"
   ]
  },
  {
   "cell_type": "markdown",
   "id": "3c476790",
   "metadata": {},
   "source": [
    "Let's try using a stop sequence"
   ]
  },
  {
   "cell_type": "code",
   "execution_count": 24,
   "id": "8b62d5a2",
   "metadata": {},
   "outputs": [],
   "source": [
    "response = openai.Completion.create(\n",
    "    prompt = \"Generate a list of the best movies of all time \",\n",
    "    model = \"text-davinci-003\",\n",
    "    max_tokens = 200,\n",
    "    stop = \"11.\"\n",
    ")"
   ]
  },
  {
   "cell_type": "code",
   "execution_count": 25,
   "id": "62d8330b",
   "metadata": {},
   "outputs": [
    {
     "name": "stdout",
     "output_type": "stream",
     "text": [
      "\n",
      "\n",
      "1. The Godfather (1972)\n",
      "2. The Shawshank Redemption (1994)\n",
      "3. Schindler's List (1993)\n",
      "4. Casablanca (1942)\n",
      "5. The Dark Knight (2008)\n",
      "6. The Godfather: Part II (1974)\n",
      "7. 12 Angry Men (1957)\n",
      "8. Psycho (1960)\n",
      "9. Raiders of the Lost Ark (1981)\n",
      "10. Forrest Gump (1994) \n",
      "\n"
     ]
    }
   ],
   "source": [
    "print(response[\"choices\"][0][\"text\"])"
   ]
  },
  {
   "cell_type": "code",
   "execution_count": null,
   "id": "8312d847",
   "metadata": {},
   "outputs": [],
   "source": []
  }
 ],
 "metadata": {
  "kernelspec": {
   "display_name": "Python 3 (ipykernel)",
   "language": "python",
   "name": "python3"
  },
  "language_info": {
   "codemirror_mode": {
    "name": "ipython",
    "version": 3
   },
   "file_extension": ".py",
   "mimetype": "text/x-python",
   "name": "python",
   "nbconvert_exporter": "python",
   "pygments_lexer": "ipython3",
   "version": "3.11.0"
  }
 },
 "nbformat": 4,
 "nbformat_minor": 5
}
