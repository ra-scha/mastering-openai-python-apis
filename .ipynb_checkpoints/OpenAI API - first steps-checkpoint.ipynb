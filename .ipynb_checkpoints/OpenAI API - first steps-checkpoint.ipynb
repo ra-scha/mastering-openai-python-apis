{
 "cells": [
  {
   "cell_type": "markdown",
   "id": "a61666c7",
   "metadata": {},
   "source": [
    "# First Steps with OpenAI's API"
   ]
  },
  {
   "cell_type": "code",
   "execution_count": 7,
   "id": "ee864d10",
   "metadata": {},
   "outputs": [],
   "source": [
    "# after installing the openai library via !pip install openai, we can import and use it\n",
    "\n",
    "import openai"
   ]
  },
  {
   "cell_type": "code",
   "execution_count": 8,
   "id": "bc1552c8",
   "metadata": {},
   "outputs": [],
   "source": [
    "# we install the python-dotenv - !pip install python-dotenv\n",
    "# then we load a function we need\n",
    "\n",
    "from dotenv import dotenv_values"
   ]
  },
  {
   "cell_type": "markdown",
   "id": "66a662a4",
   "metadata": {},
   "source": [
    "It is generally bad practice to have an API key hard-coded\n",
    "Here, we've hidden it in an invisible environment file"
   ]
  },
  {
   "cell_type": "code",
   "execution_count": 9,
   "id": "34709a28",
   "metadata": {},
   "outputs": [],
   "source": [
    "# now we can pass the configuration file to a variable\n",
    "\n",
    "config = dotenv_values(\".env.txt\")"
   ]
  },
  {
   "cell_type": "code",
   "execution_count": 10,
   "id": "6cc00d71",
   "metadata": {},
   "outputs": [],
   "source": [
    "# reminder to myself:\n",
    "# create an exam questions on how to hide your API key."
   ]
  },
  {
   "cell_type": "code",
   "execution_count": 11,
   "id": "361c7df4",
   "metadata": {},
   "outputs": [],
   "source": [
    "openai.api_key = ''"
   ]
  },
  {
   "cell_type": "markdown",
   "id": "2b050a5f",
   "metadata": {},
   "source": [
    "Generate a list of the 10 most populatet cities - experimenting with max_tokens."
   ]
  },
  {
   "cell_type": "code",
   "execution_count": 12,
   "id": "ddfa444b",
   "metadata": {},
   "outputs": [
    {
     "data": {
      "text/plain": [
       "<OpenAIObject text_completion id=cmpl-7Cv1m53thcK6HcOMTXeP4wGrVmz7k at 0x1ca68326030> JSON: {\n",
       "  \"choices\": [\n",
       "    {\n",
       "      \"finish_reason\": \"stop\",\n",
       "      \"index\": 0,\n",
       "      \"logprobs\": null,\n",
       "      \"text\": \"\\n\\n1. Tokyo, Japan   \\n2. Delhi, India   \\n3. Shanghai, China   \\n4. Sao Paulo, Brazil   \\n5. Mexico City, Mexico   \\n6. Cairo, Egypt   \\n7. Beijing, China   \\n8. Dhaka, Bangladesh   \\n9. Mumbai, India   \\n10. Osaka, Japan\"\n",
       "    }\n",
       "  ],\n",
       "  \"created\": 1683313506,\n",
       "  \"id\": \"cmpl-7Cv1m53thcK6HcOMTXeP4wGrVmz7k\",\n",
       "  \"model\": \"text-davinci-003\",\n",
       "  \"object\": \"text_completion\",\n",
       "  \"usage\": {\n",
       "    \"completion_tokens\": 73,\n",
       "    \"prompt_tokens\": 7,\n",
       "    \"total_tokens\": 80\n",
       "  }\n",
       "}"
      ]
     },
     "execution_count": 12,
     "metadata": {},
     "output_type": "execute_result"
    }
   ],
   "source": [
    "openai.Completion.create(\n",
    "    model = \"text-davinci-003\",\n",
    "    prompt = \"The top 10 most populated cities \",\n",
    "    max_tokens = 100\n",
    "    # max_tokens = 10 would run into a \"finsih_reason\": \"length\"\n",
    ")"
   ]
  },
  {
   "cell_type": "markdown",
   "id": "d4a03d40",
   "metadata": {},
   "source": [
    "Generate a list of the best movies of all time"
   ]
  },
  {
   "cell_type": "code",
   "execution_count": 13,
   "id": "ebf9b323",
   "metadata": {},
   "outputs": [],
   "source": [
    "response = openai.Completion.create(\n",
    "    prompt = \"Generate a list of the best movies of all time \",\n",
    "    model = \"text-davinci-003\",\n",
    "    max_tokens = 200\n",
    ")"
   ]
  },
  {
   "cell_type": "code",
   "execution_count": 14,
   "id": "ba5b6c76",
   "metadata": {},
   "outputs": [
    {
     "name": "stdout",
     "output_type": "stream",
     "text": [
      "\n",
      "\n",
      "1. The Godfather \n",
      "2. The Shawshank Redemption \n",
      "3. Schindler's List \n",
      "4. Casablanca \n",
      "5. The Godfather: Part II \n",
      "6. 12 Angry Men \n",
      "7. Psycho \n",
      "8. The Lord of the Rings: The Fellowship of the Ring \n",
      "9. Gone with the Wind \n",
      "10. Citizen Kane  \n",
      "11. Star Wars \n",
      "12. Apollo 13 \n",
      "13. The Wizard of Oz \n",
      "14. Rear Window \n",
      "15. The Dark Knight \n",
      "16. One Flew Over the Cuckoo’s Nest \n",
      "17. Dr. Strangelove \n",
      "18. The Silence of the Lambs \n",
      "19. Saving Private Ryan \n",
      "20. The Lord of the Rings: The Return of the King\n"
     ]
    }
   ],
   "source": [
    "print(response[\"choices\"][0][\"text\"])"
   ]
  },
  {
   "cell_type": "code",
   "execution_count": 15,
   "id": "58c67193",
   "metadata": {},
   "outputs": [
    {
     "data": {
      "text/plain": [
       "<OpenAIObject text_completion id=cmpl-7Cv1rsalALcKkfNgQOUsxgHeEoqPe at 0x1ca68325bb0> JSON: {\n",
       "  \"choices\": [\n",
       "    {\n",
       "      \"finish_reason\": \"stop\",\n",
       "      \"index\": 0,\n",
       "      \"logprobs\": null,\n",
       "      \"text\": \"\\n\\n1. The Godfather \\n2. The Shawshank Redemption \\n3. Schindler's List \\n4. Casablanca \\n5. The Godfather: Part II \\n6. 12 Angry Men \\n7. Psycho \\n8. The Lord of the Rings: The Fellowship of the Ring \\n9. Gone with the Wind \\n10. Citizen Kane  \\n11. Star Wars \\n12. Apollo 13 \\n13. The Wizard of Oz \\n14. Rear Window \\n15. The Dark Knight \\n16. One Flew Over the Cuckoo\\u2019s Nest \\n17. Dr. Strangelove \\n18. The Silence of the Lambs \\n19. Saving Private Ryan \\n20. The Lord of the Rings: The Return of the King\"\n",
       "    }\n",
       "  ],\n",
       "  \"created\": 1683313511,\n",
       "  \"id\": \"cmpl-7Cv1rsalALcKkfNgQOUsxgHeEoqPe\",\n",
       "  \"model\": \"text-davinci-003\",\n",
       "  \"object\": \"text_completion\",\n",
       "  \"usage\": {\n",
       "    \"completion_tokens\": 173,\n",
       "    \"prompt_tokens\": 12,\n",
       "    \"total_tokens\": 185\n",
       "  }\n",
       "}"
      ]
     },
     "execution_count": 15,
     "metadata": {},
     "output_type": "execute_result"
    }
   ],
   "source": [
    "# it looks like it ran into the max_tokens limit again.\n",
    "\n",
    "response"
   ]
  },
  {
   "cell_type": "markdown",
   "id": "3c476790",
   "metadata": {},
   "source": [
    "Let's try using a stop sequence"
   ]
  },
  {
   "cell_type": "code",
   "execution_count": 16,
   "id": "8b62d5a2",
   "metadata": {},
   "outputs": [],
   "source": [
    "response = openai.Completion.create(\n",
    "    prompt = \"Generate a list of the best movies of all time \",\n",
    "    model = \"text-davinci-003\",\n",
    "    max_tokens = 200,\n",
    "    stop = \"11.\"\n",
    ")"
   ]
  },
  {
   "cell_type": "code",
   "execution_count": 17,
   "id": "62d8330b",
   "metadata": {},
   "outputs": [
    {
     "name": "stdout",
     "output_type": "stream",
     "text": [
      "\n",
      "\n",
      "1. The Godfather (1972)\n",
      "2. The Shawshank Redemption (1994)\n",
      "3. Schindler’s List (1993)\n",
      "4. Casablanca (1942)\n",
      "5. Raging Bull (1980)\n",
      "6. Citizen Kane (1941)\n",
      "7. Gone with the Wind (1939)\n",
      "8. The Wizard of Oz (1939)\n",
      "9. Singin’ in the Rain (1952)\n",
      "10. Rear Window (1954)\n",
      "\n"
     ]
    }
   ],
   "source": [
    "print(response[\"choices\"][0][\"text\"])"
   ]
  },
  {
   "cell_type": "markdown",
   "id": "4a18d93f",
   "metadata": {},
   "source": [
    "The parameter n allows us to specify how many completions we want for each prompt. Defaults to 1. Could be useful if you don't want one big response but split up responses instead."
   ]
  },
  {
   "cell_type": "code",
   "execution_count": 18,
   "id": "b392c3df",
   "metadata": {},
   "outputs": [
    {
     "data": {
      "text/plain": [
       "<OpenAIObject text_completion id=cmpl-7Cv2BLpboBnMbV2C0ZszOz8y3V8LB at 0x1ca68326690> JSON: {\n",
       "  \"choices\": [\n",
       "    {\n",
       "      \"finish_reason\": \"stop\",\n",
       "      \"index\": 0,\n",
       "      \"logprobs\": null,\n",
       "      \"text\": \"\\n\\nQ: Why did the undead man go to the bar?\\nA: For Happy Hour of Corpses!\"\n",
       "    }\n",
       "  ],\n",
       "  \"created\": 1683313531,\n",
       "  \"id\": \"cmpl-7Cv2BLpboBnMbV2C0ZszOz8y3V8LB\",\n",
       "  \"model\": \"text-davinci-003\",\n",
       "  \"object\": \"text_completion\",\n",
       "  \"usage\": {\n",
       "    \"completion_tokens\": 24,\n",
       "    \"prompt_tokens\": 6,\n",
       "    \"total_tokens\": 30\n",
       "  }\n",
       "}"
      ]
     },
     "execution_count": 18,
     "metadata": {},
     "output_type": "execute_result"
    }
   ],
   "source": [
    "openai.Completion.create(\n",
    "    model = \"text-davinci-003\",\n",
    "    prompt = \"tell me a joke about death\",\n",
    "    max_tokens = 100)"
   ]
  },
  {
   "cell_type": "code",
   "execution_count": 19,
   "id": "ff3e0ebd",
   "metadata": {},
   "outputs": [
    {
     "data": {
      "text/plain": [
       "<OpenAIObject text_completion id=cmpl-7Cv2DpvzncvehdfSMsGbVVaMOXO8y at 0x1ca683259d0> JSON: {\n",
       "  \"choices\": [\n",
       "    {\n",
       "      \"finish_reason\": \"stop\",\n",
       "      \"index\": 0,\n",
       "      \"logprobs\": null,\n",
       "      \"text\": \"\\n\\nQ:Why did the scarecrow win the Nobel Prize?\\nA:Because he was outstanding in his field.\"\n",
       "    },\n",
       "    {\n",
       "      \"finish_reason\": \"stop\",\n",
       "      \"index\": 1,\n",
       "      \"logprobs\": null,\n",
       "      \"text\": \"\\n\\nQ: How do you make a dead person laugh?\\nA: Tickle them - they don't have a sense of humor!\"\n",
       "    },\n",
       "    {\n",
       "      \"finish_reason\": \"stop\",\n",
       "      \"index\": 2,\n",
       "      \"logprobs\": null,\n",
       "      \"text\": \"\\n\\nQ: What did the skeleton say to the bartender?\\nA: Give me a beer and a mop.\"\n",
       "    }\n",
       "  ],\n",
       "  \"created\": 1683313533,\n",
       "  \"id\": \"cmpl-7Cv2DpvzncvehdfSMsGbVVaMOXO8y\",\n",
       "  \"model\": \"text-davinci-003\",\n",
       "  \"object\": \"text_completion\",\n",
       "  \"usage\": {\n",
       "    \"completion_tokens\": 79,\n",
       "    \"prompt_tokens\": 6,\n",
       "    \"total_tokens\": 85\n",
       "  }\n",
       "}"
      ]
     },
     "execution_count": 19,
     "metadata": {},
     "output_type": "execute_result"
    }
   ],
   "source": [
    "openai.Completion.create(\n",
    "    model = \"text-davinci-003\",\n",
    "    prompt = \"tell me a joke about death\",\n",
    "    max_tokens = 100,\n",
    "    n = 3)"
   ]
  },
  {
   "cell_type": "markdown",
   "id": "f03d7c66",
   "metadata": {},
   "source": [
    "If we work with multiple completions, max_token applies to each single completion, not the total."
   ]
  },
  {
   "cell_type": "markdown",
   "id": "8c340fcd",
   "metadata": {},
   "source": [
    "The boolean parameter echo defaults to false. If set to true, our prompt is going to be echoed back in addition to the completion. Could be useful for chatbots, etc. Echoing does not change the amount of completion tokens; so, we are not going to be billed for using echo = True."
   ]
  },
  {
   "cell_type": "code",
   "execution_count": 20,
   "id": "02425944",
   "metadata": {},
   "outputs": [
    {
     "data": {
      "text/plain": [
       "<OpenAIObject text_completion id=cmpl-7Cv2LlOpVcB8ARsEf6WFlnGvoWK16 at 0x1ca683266f0> JSON: {\n",
       "  \"choices\": [\n",
       "    {\n",
       "      \"finish_reason\": \"stop\",\n",
       "      \"index\": 0,\n",
       "      \"logprobs\": null,\n",
       "      \"text\": \"Q: What is the tallest building in the world?\\n\\nThe tallest building in the world is the Burj Khalifa in Dubai, United Arab Emirates. The building stands at a height of 828 metres (2,717 ft).\"\n",
       "    }\n",
       "  ],\n",
       "  \"created\": 1683313541,\n",
       "  \"id\": \"cmpl-7Cv2LlOpVcB8ARsEf6WFlnGvoWK16\",\n",
       "  \"model\": \"text-davinci-003\",\n",
       "  \"object\": \"text_completion\",\n",
       "  \"usage\": {\n",
       "    \"completion_tokens\": 38,\n",
       "    \"prompt_tokens\": 11,\n",
       "    \"total_tokens\": 49\n",
       "  }\n",
       "}"
      ]
     },
     "execution_count": 20,
     "metadata": {},
     "output_type": "execute_result"
    }
   ],
   "source": [
    "openai.Completion.create(\n",
    "    model = \"text-davinci-003\",\n",
    "    prompt = \"Q: What is the tallest building in the world?\",\n",
    "    max_tokens = 100,\n",
    "    echo = True)"
   ]
  },
  {
   "cell_type": "code",
   "execution_count": null,
   "id": "ac93130f",
   "metadata": {},
   "outputs": [],
   "source": []
  }
 ],
 "metadata": {
  "kernelspec": {
   "display_name": "Python 3 (ipykernel)",
   "language": "python",
   "name": "python3"
  },
  "language_info": {
   "codemirror_mode": {
    "name": "ipython",
    "version": 3
   },
   "file_extension": ".py",
   "mimetype": "text/x-python",
   "name": "python",
   "nbconvert_exporter": "python",
   "pygments_lexer": "ipython3",
   "version": "3.11.0"
  }
 },
 "nbformat": 4,
 "nbformat_minor": 5
}
